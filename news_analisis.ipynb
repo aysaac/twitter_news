{
 "cells": [
  {
   "cell_type": "code",
   "execution_count": 2,
   "metadata": {
    "collapsed": true
   },
   "outputs": [],
   "source": [
    "import pandas as pd\n",
    "import requests\n",
    "from bs4 import BeautifulSoup\n",
    "import numpy as np\n",
    "import pytz\n",
    "import nltk\n",
    "import tweepy\n",
    "import datetime as dt\n",
    "from datetime import timedelta\n",
    "import spacy\n",
    "from scraping_utils import google_news_scraping,normalize,twitter_results"
   ]
  },
  {
   "cell_type": "code",
   "execution_count": 3,
   "outputs": [],
   "source": [
    "bearear='AAAAAAAAAAAAAAAAAAAAAKFPXQEAAAAAjCa02471Ahi1pHh5hNKqL9wzvcQ%3Dn0DfJcEyqjbJFxR3Di7ezsTERQOlio1Qhyn4K4IJEDBQ2iu22w'\n",
    "acces='1020163577859137537-DedLm3FzPGAYi5uqHhdPh7LegOAGm0'\n",
    "secret='Whu92xe1JopsBExmrEKWLcT2YOEKpC2w1M1W9CXkpdKKs'\n",
    "auth = tweepy.OAuthHandler('Hxf2c0Mc4ZvRCfG3tgIWDVTRK', 'jj8nBFAiNfINgTsHEgybvWE1ijVFYrPYga0oNs6BPFNA1jkKUM')\n",
    "\n",
    "# palabras=' OR '.join(str(words) for words in palabras\n",
    "# query='lang:es '+' ('+palabras_str+')'\n",
    "# query\n",
    "API = tweepy.API(auth)\n"
   ],
   "metadata": {
    "collapsed": false,
    "pycharm": {
     "name": "#%%\n"
    }
   }
  },
  {
   "cell_type": "code",
   "execution_count": 4,
   "outputs": [],
   "source": [
    "search_date=dt.date(2021,12,25)\n",
    "delta=timedelta(days=1)\n",
    "until=search_date+delta\n",
    "since=search_date-delta"
   ],
   "metadata": {
    "collapsed": false,
    "pycharm": {
     "name": "#%%\n"
    }
   }
  },
  {
   "cell_type": "code",
   "execution_count": 5,
   "outputs": [],
   "source": [
    "titles=google_news_scraping('Mexico',search_date)\n",
    "normalized_strings=[]\n",
    "for x in titles:\n",
    "    normalized_strings.append(' '.join(normalize(x.text)))"
   ],
   "metadata": {
    "collapsed": false,
    "pycharm": {
     "name": "#%%\n"
    }
   }
  },
  {
   "cell_type": "code",
   "execution_count": 5,
   "outputs": [],
   "source": [
    "news_dic={}"
   ],
   "metadata": {
    "collapsed": false,
    "pycharm": {
     "name": "#%%\n"
    }
   }
  },
  {
   "cell_type": "code",
   "execution_count": 6,
   "outputs": [
    {
     "ename": "TypeError",
     "evalue": "twitter_results() takes 3 positional arguments but 4 were given",
     "output_type": "error",
     "traceback": [
      "\u001B[1;31m---------------------------------------------------------------------------\u001B[0m",
      "\u001B[1;31mTypeError\u001B[0m                                 Traceback (most recent call last)",
      "\u001B[1;32m<ipython-input-6-6e162e40b1b7>\u001B[0m in \u001B[0;36m<module>\u001B[1;34m\u001B[0m\n\u001B[0;32m      1\u001B[0m \u001B[1;32mfor\u001B[0m \u001B[0mz\u001B[0m \u001B[1;32min\u001B[0m \u001B[0mnormalized_strings\u001B[0m\u001B[1;33m:\u001B[0m\u001B[1;33m\u001B[0m\u001B[1;33m\u001B[0m\u001B[0m\n\u001B[1;32m----> 2\u001B[1;33m     \u001B[0mtweets\u001B[0m \u001B[1;33m=\u001B[0m \u001B[0mtwitter_results\u001B[0m\u001B[1;33m(\u001B[0m\u001B[0mz\u001B[0m\u001B[1;33m,\u001B[0m\u001B[0msince\u001B[0m\u001B[1;33m,\u001B[0m\u001B[0muntil\u001B[0m\u001B[1;33m,\u001B[0m\u001B[0mAPI\u001B[0m\u001B[1;33m)\u001B[0m\u001B[1;33m\u001B[0m\u001B[1;33m\u001B[0m\u001B[0m\n\u001B[0m\u001B[0;32m      3\u001B[0m     \u001B[0marray\u001B[0m\u001B[1;33m=\u001B[0m\u001B[0mnp\u001B[0m\u001B[1;33m.\u001B[0m\u001B[0mchararray\u001B[0m\u001B[1;33m(\u001B[0m\u001B[1;33m(\u001B[0m\u001B[0mlen\u001B[0m\u001B[1;33m(\u001B[0m\u001B[0mtweets\u001B[0m\u001B[1;33m)\u001B[0m\u001B[1;33m,\u001B[0m\u001B[1;36m3\u001B[0m\u001B[1;33m)\u001B[0m\u001B[1;33m)\u001B[0m\u001B[1;33m\u001B[0m\u001B[1;33m\u001B[0m\u001B[0m\n\u001B[0;32m      4\u001B[0m     \u001B[1;32mfor\u001B[0m \u001B[0my\u001B[0m \u001B[1;32min\u001B[0m \u001B[0mrange\u001B[0m\u001B[1;33m(\u001B[0m\u001B[0mlen\u001B[0m\u001B[1;33m(\u001B[0m\u001B[0mtweets\u001B[0m\u001B[1;33m)\u001B[0m\u001B[1;33m)\u001B[0m\u001B[1;33m:\u001B[0m\u001B[1;33m\u001B[0m\u001B[1;33m\u001B[0m\u001B[0m\n\u001B[0;32m      5\u001B[0m         \u001B[0marray\u001B[0m\u001B[1;33m[\u001B[0m\u001B[0my\u001B[0m\u001B[1;33m,\u001B[0m\u001B[1;36m0\u001B[0m\u001B[1;33m]\u001B[0m\u001B[1;33m=\u001B[0m\u001B[0mtweets\u001B[0m\u001B[1;33m[\u001B[0m\u001B[0my\u001B[0m\u001B[1;33m]\u001B[0m\u001B[1;33m.\u001B[0m\u001B[0mtext\u001B[0m\u001B[1;33m\u001B[0m\u001B[1;33m\u001B[0m\u001B[0m\n",
      "\u001B[1;31mTypeError\u001B[0m: twitter_results() takes 3 positional arguments but 4 were given"
     ]
    }
   ],
   "source": [
    "for z in normalized_strings:\n",
    "    tweets = twitter_results(z,since,until,API)\n",
    "    array=np.chararray((len(tweets),3))\n",
    "    for y in range(len(tweets)):\n",
    "        array[y,0]=tweets[y].text\n",
    "        array[y,0]=str(tweets[y].created_at.astimezone(pytz.timezone('America/Mexico_City')))\n",
    "        array[y,0]=tweets[y].retweet_count\n"
   ],
   "metadata": {
    "collapsed": false,
    "pycharm": {
     "name": "#%%\n"
    }
   }
  },
  {
   "cell_type": "code",
   "execution_count": 9,
   "outputs": [
    {
     "data": {
      "text/plain": "[]"
     },
     "execution_count": 9,
     "metadata": {},
     "output_type": "execute_result"
    }
   ],
   "source": [],
   "metadata": {
    "collapsed": false,
    "pycharm": {
     "name": "#%%\n"
    }
   }
  },
  {
   "cell_type": "code",
   "execution_count": 8,
   "outputs": [],
   "source": [
    "l=API.search_tweets(q='hey',)\n"
   ],
   "metadata": {
    "collapsed": false,
    "pycharm": {
     "name": "#%%\n"
    }
   }
  }
 ],
 "metadata": {
  "kernelspec": {
   "display_name": "Python 3",
   "language": "python",
   "name": "python3"
  },
  "language_info": {
   "codemirror_mode": {
    "name": "ipython",
    "version": 2
   },
   "file_extension": ".py",
   "mimetype": "text/x-python",
   "name": "python",
   "nbconvert_exporter": "python",
   "pygments_lexer": "ipython2",
   "version": "2.7.6"
  }
 },
 "nbformat": 4,
 "nbformat_minor": 0
}