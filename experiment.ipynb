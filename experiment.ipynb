{
 "cells": [
  {
   "cell_type": "code",
   "execution_count": 2,
   "outputs": [],
   "source": [
    "import pandas as pd\n",
    "import requests\n",
    "from bs4 import BeautifulSoup\n",
    "import numpy as np\n",
    "import pytz\n",
    "import nltk\n",
    "import tweepy\n",
    "import datetime as dt\n",
    "from datetime import timedelta\n",
    "import spacy\n",
    "\n",
    "nlp = spacy.load('es_core_news_sm')\n",
    "\n",
    "\n",
    "def normalize(text):  #regresa el texto lematizado como lista\n",
    "    doc = nlp(text)\n",
    "\n",
    "    words = [t.orth_ for t in doc if\n",
    "             ((not t.is_punct | t.is_stop | (t.pos_ == 'CCONJ'))\n",
    "              or (str(t) == 'general' or str(t) == 'empleo')) or t.is_digit]\n",
    "\n",
    "    lexical_tokens = [t.lower() for t in words if\n",
    "                      (t.isalpha() | t.isdigit())]\n",
    "    return lexical_tokens  #lista\n",
    "\n",
    "\n",
    "def scrape_articulo_universal(URL):\n",
    "    headers = {\n",
    "        'User-Agent': 'Mozilla/5.0 (Macintosh; Intel Mac OS X 10_11_5) AppleWebKit/537.36 (KHTML, like Gecko) Chrome/50.0.2661.102 Safari/537.36'}\n",
    "    page = requests.get(URL, headers=headers)\n",
    "    soup = BeautifulSoup(page.content, \"html.parser\")\n",
    "    results = soup.find_all(\"div\", class_=\"field field-name-body field-type-text-with-summary field-label-hidden\")\n",
    "    return normalize(results[0].text)\n",
    "\n",
    "\n",
    "def google_news_scraping(query, Date):\n",
    "    headers = {\n",
    "        'User-Agent': 'Mozilla/5.0 (Macintosh; Intel Mac OS X 10_11_5) AppleWebKit/537.36 (KHTML, like Gecko) Chrome/50.0.2661.102 Safari/537.36'}\n",
    "    # query='Mexico'\n",
    "    M = str(Date.month)\n",
    "    D = str(Date.day)\n",
    "    Y = str(Date.year)\n",
    "    URL = 'https://www.google.com.mx/search?q=' + query + '&rlz=1C1CHBF_esMX831MX831&biw=1511&bih=730&source=lnt&tbs=cdr%3A1%2Ccd_min%3A' + M + '%2F' + D + '%2F' + Y + '%2Ccd_max%3A' + M + '%2F' + D + '%2F' + Y + '&tbm=nws'\n",
    "    # print(URL)\n",
    "    page = requests.get(URL, headers=headers)\n",
    "    soup = BeautifulSoup(page.content, \"html.parser\")\n",
    "    res = soup.find_all(class_=\"mCBkyc tNxQIb y355M JIFdL JQe2Ld nDgy9d\")\n",
    "    return res\n",
    "\n",
    "\n",
    "def twitter_results(search_string, until, API):\n",
    "    # df=pd.DataFrame()\n",
    "    until = until.strftime('%Y-%m-%d')\n",
    "    # since=since.strftime('%Y-%m-%d')\n",
    "\n",
    "    # query='lang:es '+search_string\n",
    "\n",
    "    return API.search_tweets(q=search_string, until=until)\n"
   ],
   "metadata": {
    "collapsed": false,
    "pycharm": {
     "name": "#%%\n"
    }
   }
  },
  {
   "cell_type": "code",
   "execution_count": 5,
   "outputs": [
    {
     "data": {
      "text/plain": "[]"
     },
     "execution_count": 5,
     "metadata": {},
     "output_type": "execute_result"
    }
   ],
   "source": [
    "bearear = 'AAAAAAAAAAAAAAAAAAAAAKFPXQEAAAAAjCa02471Ahi1pHh5hNKqL9wzvcQ%3Dn0DfJcEyqjbJFxR3Di7ezsTERQOlio1Qhyn4K4IJEDBQ2iu22w'\n",
    "acces = '1020163577859137537-DedLm3FzPGAYi5uqHhdPh7LegOAGm0'\n",
    "secret = 'Whu92xe1JopsBExmrEKWLcT2YOEKpC2w1M1W9CXkpdKKs'\n",
    "auth = tweepy.OAuthHandler('Hxf2c0Mc4ZvRCfG3tgIWDVTRK', 'jj8nBFAiNfINgTsHEgybvWE1ijVFYrPYga0oNs6BPFNA1jkKUM')\n",
    "\n",
    "# palabras=' OR '.join(str(words) for words in palabras\n",
    "# query='lang:es '+' ('+palabras_str+')'\n",
    "# query\n",
    "API = tweepy.API(auth)\n",
    "search_date = dt.date(2021, 12, 10)\n",
    "delta = timedelta(days=1)\n",
    "until = search_date + delta\n",
    "# since=search_date-delta\n",
    "h = twitter_results('hey', dt.date.today() - delta, API)\n",
    "x = h[-1]\n",
    "titles = google_news_scraping('Mexico', search_date)\n",
    "normalized_strings = []\n",
    "titles"
   ],
   "metadata": {
    "collapsed": false,
    "pycharm": {
     "name": "#%%\n"
    }
   }
  },
  {
   "cell_type": "code",
   "execution_count": 24,
   "outputs": [
    {
     "name": "stdout",
     "output_type": "stream",
     "text": [
      "[]\n"
     ]
    }
   ],
   "source": [
    "print(titles)\n"
   ],
   "metadata": {
    "collapsed": false,
    "pycharm": {
     "name": "#%%\n"
    }
   }
  },
  {
   "cell_type": "code",
   "execution_count": 4,
   "outputs": [
    {
     "data": {
      "text/plain": "'Se mantiene contingencia ambiental en noroeste del Valle de México - Notimex, Agencia de Noticias del Estado Mexica… https://t.co/6YJhXFfoeL'"
     },
     "execution_count": 4,
     "metadata": {},
     "output_type": "execute_result"
    }
   ],
   "source": [
    "for x in titles:\n",
    "    print(x)\n",
    "    normalized_strings.append(' '.join(normalize(x.text)))\n",
    "h = twitter_results('contingencia ambiental mexico', dt.date.today() - delta, API)\n",
    "h[-1].text"
   ],
   "metadata": {
    "collapsed": false,
    "pycharm": {
     "name": "#%%\n"
    }
   }
  },
  {
   "cell_type": "code",
   "execution_count": 4,
   "outputs": [],
   "source": [
    "for x in normalized_strings:\n",
    "    print(x)"
   ],
   "metadata": {
    "collapsed": false,
    "pycharm": {
     "name": "#%%\n"
    }
   }
  },
  {
   "cell_type": "code",
   "execution_count": 12,
   "outputs": [
    {
     "ename": "IndexError",
     "evalue": "list index out of range",
     "output_type": "error",
     "traceback": [
      "\u001B[1;31m---------------------------------------------------------------------------\u001B[0m",
      "\u001B[1;31mIndexError\u001B[0m                                Traceback (most recent call last)",
      "\u001B[1;32m<ipython-input-12-bbd6062ed1e1>\u001B[0m in \u001B[0;36m<module>\u001B[1;34m\u001B[0m\n\u001B[1;32m----> 1\u001B[1;33m \u001B[0mdoc\u001B[0m \u001B[1;33m=\u001B[0m \u001B[0mnlp\u001B[0m\u001B[1;33m(\u001B[0m\u001B[0mtitles\u001B[0m\u001B[1;33m[\u001B[0m\u001B[1;36m0\u001B[0m\u001B[1;33m]\u001B[0m\u001B[1;33m.\u001B[0m\u001B[0mtext\u001B[0m\u001B[1;33m)\u001B[0m\u001B[1;33m\u001B[0m\u001B[1;33m\u001B[0m\u001B[0m\n\u001B[0m\u001B[0;32m      2\u001B[0m \u001B[1;31m# import matplotlib.pyplot as plt\u001B[0m\u001B[1;33m\u001B[0m\u001B[1;33m\u001B[0m\u001B[1;33m\u001B[0m\u001B[0m\n\u001B[0;32m      3\u001B[0m \u001B[1;32mfrom\u001B[0m \u001B[0mspacy\u001B[0m \u001B[1;32mimport\u001B[0m \u001B[0mdisplacy\u001B[0m\u001B[1;33m\u001B[0m\u001B[1;33m\u001B[0m\u001B[0m\n\u001B[0;32m      4\u001B[0m \u001B[1;33m\u001B[0m\u001B[0m\n\u001B[0;32m      5\u001B[0m \u001B[0mdisplacy\u001B[0m\u001B[1;33m.\u001B[0m\u001B[0mrender\u001B[0m\u001B[1;33m(\u001B[0m\u001B[0mdoc\u001B[0m\u001B[1;33m,\u001B[0m \u001B[0mstyle\u001B[0m\u001B[1;33m=\u001B[0m\u001B[1;34m\"ent\"\u001B[0m\u001B[1;33m)\u001B[0m\u001B[1;33m\u001B[0m\u001B[1;33m\u001B[0m\u001B[0m\n",
      "\u001B[1;31mIndexError\u001B[0m: list index out of range"
     ]
    }
   ],
   "source": [
    "doc = nlp(titles[0].text)\n",
    "# import matplotlib.pyplot as plt\n",
    "from spacy import displacy\n",
    "\n",
    "displacy.render(doc, style=\"ent\")"
   ],
   "metadata": {
    "collapsed": false,
    "pycharm": {
     "name": "#%%\n"
    }
   }
  },
  {
   "cell_type": "code",
   "execution_count": 20,
   "outputs": [
    {
     "ename": "IndexError",
     "evalue": "list index out of range",
     "output_type": "error",
     "traceback": [
      "\u001B[1;31m---------------------------------------------------------------------------\u001B[0m",
      "\u001B[1;31mIndexError\u001B[0m                                Traceback (most recent call last)",
      "\u001B[1;32m<ipython-input-20-76b5106c405c>\u001B[0m in \u001B[0;36m<module>\u001B[1;34m\u001B[0m\n\u001B[1;32m----> 1\u001B[1;33m \u001B[0mtitles\u001B[0m\u001B[1;33m[\u001B[0m\u001B[1;36m0\u001B[0m\u001B[1;33m]\u001B[0m\u001B[1;33m\u001B[0m\u001B[1;33m\u001B[0m\u001B[0m\n\u001B[0m",
      "\u001B[1;31mIndexError\u001B[0m: list index out of range"
     ]
    }
   ],
   "source": [
    "assert sad\n",
    "asdasd\n"
   ],
   "metadata": {
    "collapsed": false,
    "pycharm": {
     "name": "#%%\n"
    }
   }
  },
  {
   "cell_type": "code",
   "execution_count": 13,
   "outputs": [
    {
     "ename": "IndexError",
     "evalue": "list index out of range",
     "output_type": "error",
     "traceback": [
      "\u001B[1;31m---------------------------------------------------------------------------\u001B[0m",
      "\u001B[1;31mIndexError\u001B[0m                                Traceback (most recent call last)",
      "\u001B[1;32m<ipython-input-13-3299a4153b71>\u001B[0m in \u001B[0;36m<module>\u001B[1;34m\u001B[0m\n\u001B[1;32m----> 1\u001B[1;33m \u001B[0mdoc\u001B[0m \u001B[1;33m=\u001B[0m \u001B[0mnlp\u001B[0m\u001B[1;33m(\u001B[0m\u001B[0mtitles\u001B[0m\u001B[1;33m[\u001B[0m\u001B[1;36m0\u001B[0m\u001B[1;33m]\u001B[0m\u001B[1;33m.\u001B[0m\u001B[0mtext\u001B[0m\u001B[1;33m)\u001B[0m\u001B[1;33m\u001B[0m\u001B[1;33m\u001B[0m\u001B[0m\n\u001B[0m\u001B[0;32m      2\u001B[0m \u001B[1;32mfor\u001B[0m \u001B[0ment\u001B[0m \u001B[1;32min\u001B[0m \u001B[0mdoc\u001B[0m\u001B[1;33m.\u001B[0m\u001B[0ments\u001B[0m\u001B[1;33m:\u001B[0m\u001B[1;33m\u001B[0m\u001B[1;33m\u001B[0m\u001B[0m\n\u001B[0;32m      3\u001B[0m     \u001B[0mprint\u001B[0m\u001B[1;33m(\u001B[0m\u001B[0ment\u001B[0m\u001B[1;33m.\u001B[0m\u001B[0mtext\u001B[0m\u001B[1;33m,\u001B[0m \u001B[0ment\u001B[0m\u001B[1;33m.\u001B[0m\u001B[0mlabel_\u001B[0m\u001B[1;33m)\u001B[0m\u001B[1;33m\u001B[0m\u001B[1;33m\u001B[0m\u001B[0m\n",
      "\u001B[1;31mIndexError\u001B[0m: list index out of range"
     ]
    }
   ],
   "source": [
    "doc = nlp(titles[0].text)\n",
    "for ent in doc.ents:\n",
    "    print(ent.text, ent.label_)\n"
   ],
   "metadata": {
    "collapsed": false,
    "pycharm": {
     "name": "#%%\n"
    }
   }
  }
 ],
 "metadata": {
  "kernelspec": {
   "display_name": "Python 3",
   "language": "python",
   "name": "python3"
  },
  "language_info": {
   "codemirror_mode": {
    "name": "ipython",
    "version": 2
   },
   "file_extension": ".py",
   "mimetype": "text/x-python",
   "name": "python",
   "nbconvert_exporter": "python",
   "pygments_lexer": "ipython2",
   "version": "2.7.6"
  }
 },
 "nbformat": 4,
 "nbformat_minor": 0
}